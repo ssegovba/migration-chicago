{
 "cells": [
  {
   "cell_type": "markdown",
   "metadata": {},
   "source": [
    "## Assessing Service Accessibility for Asylum Seekers in Chicago"
   ]
  },
  {
   "cell_type": "code",
   "execution_count": 32,
   "metadata": {},
   "outputs": [],
   "source": [
    "import pandas as pd\n",
    "import geopandas as gpd\n",
    "import folium\n",
    "\n",
    "from shapely.geometry import Point, MultiPolygon"
   ]
  },
  {
   "cell_type": "markdown",
   "metadata": {},
   "source": [
    "## I. Loading and Cleaning Data"
   ]
  },
  {
   "cell_type": "code",
   "execution_count": 156,
   "metadata": {},
   "outputs": [],
   "source": [
    "# Location Data\n",
    "shelters = pd.read_excel(\"../data/shelter_data.xlsx\",sheet_name=0,engine=\"openpyxl\")\n",
    "public_libraries = pd.read_json(\"https://data.cityofchicago.org/resource/x8fc-8rcq.json\")\n",
    "grocery_shops = pd.read_json(\"https://data.cityofchicago.org/resource/ce29-twzt.json\")\n",
    "wifi_points = pd.read_json(\"https://data.cityofchicago.org/resource/4jzv-pgsc.json\")\n",
    "public_clinics = pd.read_json(\"https://data.cityofchicago.org/resource/kcki-hnch.json\")\n",
    "public_schools = pd.read_json(\"https://data.cityofchicago.org/resource/tz49-n8ze.json\")\n",
    "bus_stations = gpd.read_file(\"../data/cta_bus_stops/bus_stops_location.shp\")\n",
    "rail_stations = gpd.read_file(\"../data/cta_rail_stations/CTA_RailStations.shp\")\n",
    "\n",
    "# Boundary Data\n",
    "neigh_bound = gpd.read_file(\"../data/neighborhood_boundaries/neigh_bound.shp\")\n",
    "parks_bound = gpd.read_file(\"../data/parks_boundaries/parks_bound.shp\")\n",
    "\n",
    "\n",
    "# Other Data\n",
    "arrivals = pd.read_excel(\"../data/shelter_data.xlsx\",\n",
    "                          sheet_name=1,\n",
    "                          engine=\"openpyxl\")"
   ]
  },
  {
   "cell_type": "markdown",
   "metadata": {},
   "source": [
    "### I.a Geocode Datasets"
   ]
  },
  {
   "cell_type": "code",
   "execution_count": 217,
   "metadata": {},
   "outputs": [],
   "source": [
    "def geocode_df(df,idx):\n",
    "    cond_1 = (\"latitude\" and \"longitude\") in df.columns\n",
    "    cond_2 = (\"y\" and \"x\") in df.columns\n",
    "    if cond_1 or cond_2:\n",
    "        if cond_2:\n",
    "            df.rename(columns={\"y\": \"latitude\", \"x\": \"longitude\"}, inplace=True)\n",
    "    else:\n",
    "        df[\"latitude\"] = df[\"location\"].apply(lambda row: row[\"latitude\"])\n",
    "        df[\"longitude\"] = df[\"location\"].apply(lambda row: row[\"longitude\"])\n",
    "    \n",
    "    df[\"geometry\"] = [Point(lon, lat) for lon, lat in zip(df[\"longitude\"], df[\"latitude\"])]\n",
    "    gdf = gpd.GeoDataFrame(df, crs=\"EPSG:4326\", geometry=df[\"geometry\"])\n",
    "\n",
    "    return gdf"
   ]
  },
  {
   "cell_type": "code",
   "execution_count": 226,
   "metadata": {},
   "outputs": [
    {
     "name": "stdout",
     "output_type": "stream",
     "text": [
      "Created geo_shelters using shelters\n",
      "Created geo_public_libraries using public_libraries\n",
      "Created geo_grocery_shops using grocery_shops\n",
      "Created geo_wifi_points using wifi_points\n",
      "Created geo_public_clinics using public_clinics\n",
      "Created geo_public_schools using public_schools\n"
     ]
    }
   ],
   "source": [
    "dfs_geocode = [\"shelters\", \"public_libraries\", \"grocery_shops\", \"wifi_points\",\n",
    "               \"public_clinics\", \"public_schools\"]\n",
    "\n",
    "for idx, df_name in enumerate(dfs_geocode):\n",
    "    input_df = globals()[df_name]  # Get the DataFrame by name\n",
    "    geo_df = geocode_df(input_df,df_name)  # Call the geocode_df function\n",
    "    globals()[\"geo_\" + df_name] = geo_df  # Assign the result to a new global variable\n",
    "    print(\"Created geo_\",df_name,\" using \", df_name,sep=\"\")\n"
   ]
  },
  {
   "cell_type": "markdown",
   "metadata": {},
   "source": [
    "### I.b Subsetting the Data"
   ]
  },
  {
   "cell_type": "markdown",
   "metadata": {},
   "source": [
    "### I.x Arrival Data"
   ]
  },
  {
   "cell_type": "code",
   "execution_count": 3,
   "metadata": {},
   "outputs": [],
   "source": [
    "# Data\n",
    "arrivals_melt = arrivals.melt(id_vars=[\"landing_zone\",\"shelter_dummy\"], var_name=\"date\")"
   ]
  },
  {
   "cell_type": "code",
   "execution_count": 4,
   "metadata": {},
   "outputs": [],
   "source": [
    "arrivals_melt[\"date\"] = pd.to_datetime(arrivals_melt[\"date\"])\n",
    "arrivals_melt[\"year_month\"] = arrivals_melt[\"date\"].dt.strftime('%Y-%m')"
   ]
  },
  {
   "cell_type": "code",
   "execution_count": 5,
   "metadata": {},
   "outputs": [
    {
     "data": {
      "text/html": [
       "<div>\n",
       "<style scoped>\n",
       "    .dataframe tbody tr th:only-of-type {\n",
       "        vertical-align: middle;\n",
       "    }\n",
       "\n",
       "    .dataframe tbody tr th {\n",
       "        vertical-align: top;\n",
       "    }\n",
       "\n",
       "    .dataframe thead th {\n",
       "        text-align: right;\n",
       "    }\n",
       "</style>\n",
       "<table border=\"1\" class=\"dataframe\">\n",
       "  <thead>\n",
       "    <tr style=\"text-align: right;\">\n",
       "      <th></th>\n",
       "      <th>landing_zone</th>\n",
       "      <th>shelter_dummy</th>\n",
       "      <th>date</th>\n",
       "      <th>value</th>\n",
       "      <th>year_month</th>\n",
       "    </tr>\n",
       "  </thead>\n",
       "  <tbody>\n",
       "    <tr>\n",
       "      <th>0</th>\n",
       "      <td>O'Hare Airport</td>\n",
       "      <td>0</td>\n",
       "      <td>2023-06-09</td>\n",
       "      <td>11.0</td>\n",
       "      <td>2023-06</td>\n",
       "    </tr>\n",
       "    <tr>\n",
       "      <th>1</th>\n",
       "      <td>Midway Airport</td>\n",
       "      <td>0</td>\n",
       "      <td>2023-06-09</td>\n",
       "      <td>NaN</td>\n",
       "      <td>2023-06</td>\n",
       "    </tr>\n",
       "    <tr>\n",
       "      <th>2</th>\n",
       "      <td>Police Districts (All)</td>\n",
       "      <td>0</td>\n",
       "      <td>2023-06-09</td>\n",
       "      <td>459.0</td>\n",
       "      <td>2023-06</td>\n",
       "    </tr>\n",
       "    <tr>\n",
       "      <th>3</th>\n",
       "      <td>American Islamic College</td>\n",
       "      <td>1</td>\n",
       "      <td>2023-06-09</td>\n",
       "      <td>NaN</td>\n",
       "      <td>2023-06</td>\n",
       "    </tr>\n",
       "    <tr>\n",
       "      <th>4</th>\n",
       "      <td>Brands Park</td>\n",
       "      <td>1</td>\n",
       "      <td>2023-06-09</td>\n",
       "      <td>169.0</td>\n",
       "      <td>2023-06</td>\n",
       "    </tr>\n",
       "  </tbody>\n",
       "</table>\n",
       "</div>"
      ],
      "text/plain": [
       "               landing_zone  shelter_dummy       date  value year_month\n",
       "0            O'Hare Airport              0 2023-06-09   11.0    2023-06\n",
       "1            Midway Airport              0 2023-06-09    NaN    2023-06\n",
       "2    Police Districts (All)              0 2023-06-09  459.0    2023-06\n",
       "3  American Islamic College              1 2023-06-09    NaN    2023-06\n",
       "4               Brands Park              1 2023-06-09  169.0    2023-06"
      ]
     },
     "execution_count": 5,
     "metadata": {},
     "output_type": "execute_result"
    }
   ],
   "source": [
    "arrivals_melt.head()"
   ]
  },
  {
   "cell_type": "code",
   "execution_count": 6,
   "metadata": {},
   "outputs": [
    {
     "data": {
      "text/html": [
       "<div>\n",
       "<style scoped>\n",
       "    .dataframe tbody tr th:only-of-type {\n",
       "        vertical-align: middle;\n",
       "    }\n",
       "\n",
       "    .dataframe tbody tr th {\n",
       "        vertical-align: top;\n",
       "    }\n",
       "\n",
       "    .dataframe thead th {\n",
       "        text-align: right;\n",
       "    }\n",
       "</style>\n",
       "<table border=\"1\" class=\"dataframe\">\n",
       "  <thead>\n",
       "    <tr style=\"text-align: right;\">\n",
       "      <th></th>\n",
       "      <th>landing_zone</th>\n",
       "      <th>shelter_dummy</th>\n",
       "      <th>year_month</th>\n",
       "      <th>value</th>\n",
       "    </tr>\n",
       "  </thead>\n",
       "  <tbody>\n",
       "    <tr>\n",
       "      <th>0</th>\n",
       "      <td>American Islamic College</td>\n",
       "      <td>1</td>\n",
       "      <td>2023-06</td>\n",
       "      <td>0.0</td>\n",
       "    </tr>\n",
       "    <tr>\n",
       "      <th>1</th>\n",
       "      <td>American Islamic College</td>\n",
       "      <td>1</td>\n",
       "      <td>2023-07</td>\n",
       "      <td>0.0</td>\n",
       "    </tr>\n",
       "    <tr>\n",
       "      <th>2</th>\n",
       "      <td>American Islamic College</td>\n",
       "      <td>1</td>\n",
       "      <td>2023-08</td>\n",
       "      <td>2747.0</td>\n",
       "    </tr>\n",
       "    <tr>\n",
       "      <th>3</th>\n",
       "      <td>American Islamic College</td>\n",
       "      <td>1</td>\n",
       "      <td>2023-09</td>\n",
       "      <td>4630.0</td>\n",
       "    </tr>\n",
       "    <tr>\n",
       "      <th>4</th>\n",
       "      <td>American Islamic College</td>\n",
       "      <td>1</td>\n",
       "      <td>2023-10</td>\n",
       "      <td>4934.0</td>\n",
       "    </tr>\n",
       "    <tr>\n",
       "      <th>...</th>\n",
       "      <td>...</td>\n",
       "      <td>...</td>\n",
       "      <td>...</td>\n",
       "      <td>...</td>\n",
       "    </tr>\n",
       "    <tr>\n",
       "      <th>259</th>\n",
       "      <td>YWLA</td>\n",
       "      <td>1</td>\n",
       "      <td>2023-09</td>\n",
       "      <td>1238.0</td>\n",
       "    </tr>\n",
       "    <tr>\n",
       "      <th>260</th>\n",
       "      <td>YWLA</td>\n",
       "      <td>1</td>\n",
       "      <td>2023-10</td>\n",
       "      <td>989.0</td>\n",
       "    </tr>\n",
       "    <tr>\n",
       "      <th>261</th>\n",
       "      <td>YWLA</td>\n",
       "      <td>1</td>\n",
       "      <td>2023-11</td>\n",
       "      <td>984.0</td>\n",
       "    </tr>\n",
       "    <tr>\n",
       "      <th>262</th>\n",
       "      <td>YWLA</td>\n",
       "      <td>1</td>\n",
       "      <td>2023-12</td>\n",
       "      <td>1238.0</td>\n",
       "    </tr>\n",
       "    <tr>\n",
       "      <th>263</th>\n",
       "      <td>YWLA</td>\n",
       "      <td>1</td>\n",
       "      <td>2024-01</td>\n",
       "      <td>1008.0</td>\n",
       "    </tr>\n",
       "  </tbody>\n",
       "</table>\n",
       "<p>264 rows × 4 columns</p>\n",
       "</div>"
      ],
      "text/plain": [
       "                 landing_zone  shelter_dummy year_month   value\n",
       "0    American Islamic College              1    2023-06     0.0\n",
       "1    American Islamic College              1    2023-07     0.0\n",
       "2    American Islamic College              1    2023-08  2747.0\n",
       "3    American Islamic College              1    2023-09  4630.0\n",
       "4    American Islamic College              1    2023-10  4934.0\n",
       "..                        ...            ...        ...     ...\n",
       "259                      YWLA              1    2023-09  1238.0\n",
       "260                      YWLA              1    2023-10   989.0\n",
       "261                      YWLA              1    2023-11   984.0\n",
       "262                      YWLA              1    2023-12  1238.0\n",
       "263                      YWLA              1    2024-01  1008.0\n",
       "\n",
       "[264 rows x 4 columns]"
      ]
     },
     "execution_count": 6,
     "metadata": {},
     "output_type": "execute_result"
    }
   ],
   "source": [
    "arrivals_melt.groupby([\"landing_zone\",\"shelter_dummy\",\"year_month\",]).agg({\"value\":\"sum\"}).reset_index()"
   ]
  },
  {
   "cell_type": "markdown",
   "metadata": {},
   "source": [
    "## III. Plots"
   ]
  },
  {
   "cell_type": "markdown",
   "metadata": {},
   "source": [
    "#### III.I Shelter locations and Migrant Arrivals"
   ]
  },
  {
   "cell_type": "code",
   "execution_count": 8,
   "metadata": {},
   "outputs": [
    {
     "data": {
      "text/plain": [
       "Index(['loc_name', 'lat_lon'], dtype='object')"
      ]
     },
     "execution_count": 8,
     "metadata": {},
     "output_type": "execute_result"
    }
   ],
   "source": [
    "locations.columns"
   ]
  },
  {
   "cell_type": "code",
   "execution_count": 9,
   "metadata": {},
   "outputs": [],
   "source": [
    "locations[[\"latitude\",\"longitude\"]] = locations[\"lat_lon\"].str.split(\",\",expand=True)"
   ]
  },
  {
   "cell_type": "code",
   "execution_count": 10,
   "metadata": {},
   "outputs": [
    {
     "data": {
      "text/html": [
       "<div>\n",
       "<style scoped>\n",
       "    .dataframe tbody tr th:only-of-type {\n",
       "        vertical-align: middle;\n",
       "    }\n",
       "\n",
       "    .dataframe tbody tr th {\n",
       "        vertical-align: top;\n",
       "    }\n",
       "\n",
       "    .dataframe thead th {\n",
       "        text-align: right;\n",
       "    }\n",
       "</style>\n",
       "<table border=\"1\" class=\"dataframe\">\n",
       "  <thead>\n",
       "    <tr style=\"text-align: right;\">\n",
       "      <th></th>\n",
       "      <th>loc_name</th>\n",
       "      <th>lat_lon</th>\n",
       "      <th>latitude</th>\n",
       "      <th>longitude</th>\n",
       "    </tr>\n",
       "  </thead>\n",
       "  <tbody>\n",
       "    <tr>\n",
       "      <th>0</th>\n",
       "      <td>Americen Islamic College</td>\n",
       "      <td>41.955547392826425, -87.64640609999998</td>\n",
       "      <td>41.955547392826425</td>\n",
       "      <td>-87.64640609999998</td>\n",
       "    </tr>\n",
       "    <tr>\n",
       "      <th>1</th>\n",
       "      <td>Brands Park</td>\n",
       "      <td>41.94137572059273, -87.69921562883565</td>\n",
       "      <td>41.94137572059273</td>\n",
       "      <td>-87.69921562883565</td>\n",
       "    </tr>\n",
       "    <tr>\n",
       "      <th>2</th>\n",
       "      <td>Broadway Armory</td>\n",
       "      <td>41.989611556345416, -87.66009473438407</td>\n",
       "      <td>41.989611556345416</td>\n",
       "      <td>-87.66009473438407</td>\n",
       "    </tr>\n",
       "    <tr>\n",
       "      <th>3</th>\n",
       "      <td>Casa Esperanza</td>\n",
       "      <td>41.73548116816464, -87.55940857505853</td>\n",
       "      <td>41.73548116816464</td>\n",
       "      <td>-87.55940857505853</td>\n",
       "    </tr>\n",
       "    <tr>\n",
       "      <th>4</th>\n",
       "      <td>Daley College</td>\n",
       "      <td>41.757198163616906, -87.72284761349309</td>\n",
       "      <td>41.757198163616906</td>\n",
       "      <td>-87.72284761349309</td>\n",
       "    </tr>\n",
       "  </tbody>\n",
       "</table>\n",
       "</div>"
      ],
      "text/plain": [
       "                   loc_name                                 lat_lon  \\\n",
       "0  Americen Islamic College  41.955547392826425, -87.64640609999998   \n",
       "1               Brands Park   41.94137572059273, -87.69921562883565   \n",
       "2           Broadway Armory  41.989611556345416, -87.66009473438407   \n",
       "3            Casa Esperanza   41.73548116816464, -87.55940857505853   \n",
       "4             Daley College  41.757198163616906, -87.72284761349309   \n",
       "\n",
       "             latitude            longitude  \n",
       "0  41.955547392826425   -87.64640609999998  \n",
       "1   41.94137572059273   -87.69921562883565  \n",
       "2  41.989611556345416   -87.66009473438407  \n",
       "3   41.73548116816464   -87.55940857505853  \n",
       "4  41.757198163616906   -87.72284761349309  "
      ]
     },
     "execution_count": 10,
     "metadata": {},
     "output_type": "execute_result"
    }
   ],
   "source": [
    "locations.head()"
   ]
  },
  {
   "cell_type": "code",
   "execution_count": 11,
   "metadata": {},
   "outputs": [],
   "source": [
    "# Construct the geometry variable\n",
    "geometry = [Point(lon, lat) for lon, lat in zip(locations['longitude'], locations['latitude'])]\n",
    "\n",
    "# Create a GeoDataFrame using the 'geometry' column\n",
    "locations_gdf = gpd.GeoDataFrame(locations, geometry=geometry)\n",
    "\n",
    "# Set the coordinate reference system (CRS) if needed\n",
    "locations_gdf.crs = \"EPSG:4326\""
   ]
  }
 ],
 "metadata": {
  "kernelspec": {
   "display_name": "Python 3",
   "language": "python",
   "name": "python3"
  },
  "language_info": {
   "codemirror_mode": {
    "name": "ipython",
    "version": 3
   },
   "file_extension": ".py",
   "mimetype": "text/x-python",
   "name": "python",
   "nbconvert_exporter": "python",
   "pygments_lexer": "ipython3",
   "version": "3.11.7"
  }
 },
 "nbformat": 4,
 "nbformat_minor": 2
}
