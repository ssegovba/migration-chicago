{
 "cells": [
  {
   "cell_type": "markdown",
   "metadata": {},
   "source": [
    "## Assessing Service Accessibility for Asylum Seekers in Chicago"
   ]
  },
  {
   "cell_type": "code",
   "execution_count": 1,
   "metadata": {},
   "outputs": [],
   "source": [
    "import pandas as pd\n",
    "import numpy as np\n",
    "import geopandas as gpd\n",
    "import folium\n",
    "\n",
    "from shapely.geometry import Point\n",
    "\n",
    "pd.set_option('display.max_columns', None)"
   ]
  },
  {
   "cell_type": "markdown",
   "metadata": {},
   "source": [
    "## I. Loading and Cleaning Data"
   ]
  },
  {
   "cell_type": "code",
   "execution_count": 2,
   "metadata": {},
   "outputs": [],
   "source": [
    "# Location Data\n",
    "shelters = pd.read_excel(\"../data/shelter_data.xlsx\",sheet_name=0,engine=\"openpyxl\")\n",
    "public_libraries = pd.read_json(\"https://data.cityofchicago.org/resource/x8fc-8rcq.json\")\n",
    "grocery_shops = pd.read_json(\"https://data.cityofchicago.org/resource/ce29-twzt.json\")\n",
    "wifi_points = pd.read_json(\"https://data.cityofchicago.org/resource/4jzv-pgsc.json\")\n",
    "public_clinics = pd.read_json(\"https://data.cityofchicago.org/resource/kcki-hnch.json\")\n",
    "public_schools = pd.read_json(\"https://data.cityofchicago.org/resource/tz49-n8ze.json\")\n",
    "bus_stations = gpd.read_file(\"../data/cta_bus_stops/bus_stops_location.shp\")\n",
    "rail_stations = gpd.read_file(\"../data/cta_rail_stations/CTA_RailStations.shp\")\n",
    "\n",
    "# Boundary Data\n",
    "neigh_bound = gpd.read_file(\"../data/neighborhood_boundaries/neigh_bound.shp\")\n",
    "parks_bound = gpd.read_file(\"../data/parks_boundaries/parks_bound.shp\")"
   ]
  },
  {
   "cell_type": "markdown",
   "metadata": {},
   "source": [
    "### I.a Geocode Datasets"
   ]
  },
  {
   "cell_type": "markdown",
   "metadata": {},
   "source": [
    "The data sources don’t have a homogeneous format, so we need to ensure that the locations of shelters, grocery shops, Wi-Fi points, public schools, clinics, bus stops, and rail stops are properly geocoded.\n",
    "\n",
    "Given that the files already have variables in degrees, even though not properly geocoded, we define their geometries using the EPSG:4326 - [World Geodetic System (WGS84)](https://en.wikipedia.org/wiki/World_Geodetic_System#WGS84), a latitude/longitude Coordinate Reference System (CRS) based on the Earth's center of mass. In later sections, we'll transform the CRS to accurate distance measurement. For this, we'll use the EPSG:3857 - [Web Mercator projection](https://en.wikipedia.org/wiki/Web_Mercator_projection) to calculate buffers and distances."
   ]
  },
  {
   "cell_type": "code",
   "execution_count": 4,
   "metadata": {},
   "outputs": [],
   "source": [
    "# Define function that geocode datasets\n",
    "def geocode_df(df, only_change_crs):\n",
    "    \"\"\"\n",
    "    This function takes a pandas df and converts it to a GeoDataFrame by creating\n",
    "    a geometry variable and assigning a the EPSG:4326 Coordinate Reference System.\n",
    "\n",
    "    Input:\n",
    "        df: a pandas DataFrame\n",
    "        only_change_crs (bool): True if the dataset is already geocoded and only\n",
    "            requires to specify the CRS.\n",
    "    \n",
    "    Output:\n",
    "        gdf: a GeoDataFrame\n",
    "    \"\"\"\n",
    "    if only_change_crs:\n",
    "        gdf = df.to_crs(epsg=4326)\n",
    "    else:\n",
    "        cond_1 = (\"latitude\" and \"longitude\") in df.columns\n",
    "        cond_2 = (\"y\" and \"x\") in df.columns\n",
    "        if cond_1 or cond_2:\n",
    "            if cond_2:\n",
    "                df.rename(columns={\"y\": \"latitude\", \"x\": \"longitude\"}, inplace=True)\n",
    "        else:\n",
    "            df[\"latitude\"] = df[\"location\"].apply(lambda row: row[\"latitude\"])\n",
    "            df[\"longitude\"] = df[\"location\"].apply(lambda row: row[\"longitude\"])\n",
    "        \n",
    "        df[\"geometry\"] = [Point(lon, lat) for lon, lat in zip(df[\"longitude\"], df[\"latitude\"])]\n",
    "        gdf = gpd.GeoDataFrame(df, crs=\"EPSG:4326\", geometry=df[\"geometry\"])\n",
    "\n",
    "    return gdf"
   ]
  },
  {
   "cell_type": "code",
   "execution_count": 5,
   "metadata": {},
   "outputs": [
    {
     "name": "stdout",
     "output_type": "stream",
     "text": [
      "Created geo_shelters using shelters\n",
      "  The CRS of the data is now EPSG:4326\n",
      "Created geo_public_libraries using public_libraries\n",
      "  The CRS of the data is now EPSG:4326\n",
      "Created geo_grocery_shops using grocery_shops\n",
      "  The CRS of the data is now EPSG:4326\n",
      "Created geo_wifi_points using wifi_points\n",
      "  The CRS of the data is now EPSG:4326\n",
      "Created geo_public_clinics using public_clinics\n",
      "  The CRS of the data is now EPSG:4326\n",
      "Created geo_public_schools using public_schools\n",
      "  The CRS of the data is now EPSG:4326\n",
      "Created geo_bus_stations using bus_stations\n",
      "  The CRS of the data is now EPSG:4326\n",
      "Created geo_rail_stations using rail_stations\n",
      "  The CRS of the data is now EPSG:4326\n",
      "Created geo_parks_bound using parks_bound\n",
      "  The CRS of the data is now EPSG:4326\n",
      "Created geo_neigh_bound using neigh_bound\n",
      "  The CRS of the data is now EPSG:4326\n"
     ]
    }
   ],
   "source": [
    "dfs_geocode = [(\"shelters\", False), (\"public_libraries\", False),\n",
    "               (\"grocery_shops\", False), (\"wifi_points\", False),\n",
    "               (\"public_clinics\", False), (\"public_schools\", False),\n",
    "               (\"bus_stations\", True), (\"rail_stations\", True),\n",
    "               (\"parks_bound\", True), (\"neigh_bound\", True)]\n",
    "\n",
    "for dfs in dfs_geocode:\n",
    "    df_name, operation = dfs\n",
    "    input_df = globals()[df_name]  # Get the DataFrame by name\n",
    "    geo_df = geocode_df(input_df, operation)\n",
    "    globals()[\"geo_\" + df_name] = geo_df  # Assign the result to a new global variable\n",
    "    print(\"Created geo_\",df_name,\" using \", df_name,sep=\"\")\n",
    "    print(\"  The CRS of the data is now\",geo_df.crs)"
   ]
  },
  {
   "cell_type": "markdown",
   "metadata": {},
   "source": [
    "### I.b Subsetting the Data"
   ]
  },
  {
   "cell_type": "code",
   "execution_count": 11,
   "metadata": {},
   "outputs": [],
   "source": [
    "# Remove useless columns from each dataset\n",
    "geo_public_libraries = geo_public_libraries[['name_','latitude','longitude','geometry']]\n",
    "geo_grocery_shops = geo_grocery_shops[['community_area_name','latitude','longitude','geometry']]\n",
    "geo_wifi_points = geo_wifi_points[['organization_name','latitude','longitude','geometry']]\n",
    "geo_public_clinics = geo_public_clinics[['site_name','latitude','longitude','geometry']]\n",
    "geo_public_schools = geo_public_schools[['school_nm','latitude','longitude','geometry']]\n",
    "geo_bus_stations = geo_bus_stations[['public_nam','geometry']]\n",
    "geo_rail_stations = geo_rail_stations[['LONGNAME','geometry']]\n",
    "geo_parks_bound = geo_parks_bound[['park','geometry']]\n",
    "geo_neigh_bound = geo_neigh_bound[['pri_neigh','sec_neigh','geometry']]"
   ]
  },
  {
   "cell_type": "markdown",
   "metadata": {},
   "source": [
    "## II. Defining Buffer Distances"
   ]
  },
  {
   "cell_type": "markdown",
   "metadata": {},
   "source": [
    "We need to define what distance is considered accessible for each type of service. After this, we’ll create buffer zones around each shelter. The size of these buffers will be based on distances defined as accessible. The selection criteria is the following:\n",
    "\n",
    "* **Public libraries**: Following a study from [Donelly (2015)](https://www.sciencedirect.com/science/article/abs/pii/S0740818815000869) and this post about [average distance to libraries in the US](https://atcoordinates.info/2016/02/22/average-distance-to-public-libraries-in-the-us/), we use a two-mile buffer to define accessibility to library services.\n",
    "\n",
    "* **Grocery shops**: Based on research from the [Department of Agriculture](https://www.ers.usda.gov/data-products/food-access-research-atlas/documentation/), and [Wilde et. al (2017)](https://www.ncbi.nlm.nih.gov/pmc/articles/PMC5998793/) a grocery store is considerable accesible in an urban area if it's within a 1 mile radius from a person's location.\n",
    "\n",
    "* **Wi-Fi points**: Given the lack of studies on accesibility to internet services, we define a buffer zone of 1 mile to Wi-Fi points.\n",
    "\n",
    "* **Public clinics**: Based on a paper from [Luo and Wang (2021)](https://www.ncbi.nlm.nih.gov/pmc/articles/PMC8238135/) on Spatial Accessibility to Healthcare in Chicago, we define a buffer zone of 15 miles for public hospitals.\n",
    "\n",
    "* **Public schools**: Using a study from the [US Department of Transportation](https://nhts.ornl.gov/briefs/travel%20to%20school.pdf) and from the [Kinder Institute for Urban Research](https://kinder.rice.edu/research/staying-neighborhood-examining-distance-zoned-schools-and-access-transportation#:~:text=The%20average%20distance%20between%20an,to%20enroll%20in%20that%20school.), we define a school as accesible if it's within a 2 mile radius from a family household in urban areas.\n",
    "\n",
    "* **Transportation points**: Based on research from the [US Department of Transportation](https://safety.fhwa.dot.gov/ped_bike/ped_transit/ped_transguide/ch4.cfm), most people are willing to walk for five to ten minutes, or approximately a quarter of half mile to a transit stop. Given that Chicago is one of the major cities in the US, we define a 1/2 mile radius as accessible distance.\n",
    "\n",
    "* **Green spaces**: [Nesbitt et. al (2018)](https://www.sciencedirect.com/science/article/pii/S0169204618307710) conducted a spatial analysis of distributional green equity in 10 US cities. In their study, they mentioned that urban residents in the US walk 1.3 mi, or just over 2 km, on average, during recreational walking trips, suggesting that 1000 m is an average distance that most urban residents would walk to a park. Given this, we define a park as accesible if it is in a 0.63 miles radius. \n",
    "\n",
    "The representation of the buffers for each service is stored in a dictionary:"
   ]
  },
  {
   "cell_type": "code",
   "execution_count": 12,
   "metadata": {},
   "outputs": [],
   "source": [
    "serv_buffer = {\n",
    "    \"public_libraries\": 2,\n",
    "    \"grocery_shops\": 1,\n",
    "    \"wifi_points\": 1,\n",
    "    \"public_clinics\": 15,\n",
    "    \"public_schools\": 2,\n",
    "    \"bus_stations\": 0.5,\n",
    "    \"rail_stations\": 0.5,\n",
    "    \"parks_bound\": 0.63,\n",
    "}"
   ]
  },
  {
   "cell_type": "markdown",
   "metadata": {},
   "source": [
    "## III. Calculating Accesibility Indices"
   ]
  },
  {
   "cell_type": "markdown",
   "metadata": {},
   "source": [
    "### III.a Count of Services"
   ]
  },
  {
   "cell_type": "markdown",
   "metadata": {},
   "source": [
    "To create an accesibility index, we first calculate a buffer for a specific service. Once the buffer is created, we count the number of services that fall within that buffer. The index is created following the normalization approach described in the `README.md` of the repo. Intuitevily, the higher the index, the greater the access to a specific service or set of services.\n",
    "\n",
    "We'll calculate the buffers for both shelters and neighborhood centroids. The reason for this is that we'll use the data from the neighborhoods as a *proxy* measure to understand how many services a household located in a neighborhood would have. In this sense, the indices that we calculate for shelters will be compared to the data from neigjborhoods as it serves as a benchmark. The function `count_services` handles the buffer creation and service counts:"
   ]
  },
  {
   "cell_type": "code",
   "execution_count": 22,
   "metadata": {},
   "outputs": [],
   "source": [
    "def count_services(df_name, buffer_keys):\n",
    "    \"\"\"\n",
    "    This function calculates buffers in meters around each geometry in `df` based\n",
    "    on specified distances, and counts the number of services falling within each buffer.\n",
    "    The results are returned in a new GeoDataFrame.\n",
    "\n",
    "    Inputs:\n",
    "        df: GeoDataFrame with geometries in a projected CRS\n",
    "        buffer_keys: dict with names of services and buffer distances in miles\n",
    "\n",
    "    Output:\n",
    "        new_df: GeoDataFrame with additional columns with the counts for each service\n",
    "            that falls within a specific buffer\n",
    "    \"\"\"\n",
    "    new_df = globals()[df_name]\n",
    "    services = list(buffer_keys.keys())\n",
    "    for service in services:\n",
    "        # Load the service GeoDataFrame\n",
    "        df_comparison = globals()[\"geo_\" + service]\n",
    "\n",
    "        # Change geometry to calculate distances\n",
    "        new_df.to_crs(epsg=3857, inplace=True)\n",
    "        df_comparison.to_crs(epsg=3857, inplace=True)\n",
    "\n",
    "        # Calculate buffers in meters\n",
    "        buffer_distance_m = buffer_keys[service] * 1609.34\n",
    "        if df_name == \"geo_neigh_bound\":\n",
    "            new_df.loc[:,'geometry'] = new_df.loc[:,'geometry'].centroid\n",
    "        buffers = new_df['geometry'].buffer(buffer_distance_m)\n",
    "        \n",
    "        # Initialize a column for the service counts\n",
    "        new_df[service] = 0\n",
    "        for idx, buffer in enumerate(buffers):\n",
    "            # Count how many service points intersect with the buffer\n",
    "            cnt_services = df_comparison['geometry'].intersects(buffer).sum()\n",
    "            new_df.loc[idx, service] = cnt_services\n",
    "        \n",
    "    # Change CRS to original\n",
    "    new_df.to_crs(epsg=4326, inplace=True)\n",
    "\n",
    "    return new_df"
   ]
  },
  {
   "cell_type": "code",
   "execution_count": 27,
   "metadata": {},
   "outputs": [],
   "source": [
    "cnt_servs_neigh = count_services(\"geo_neigh_bound\",serv_buffer)\n",
    "cnt_servs_shelters = count_services(\"geo_shelters\",serv_buffer)"
   ]
  },
  {
   "cell_type": "code",
   "execution_count": null,
   "metadata": {},
   "outputs": [
    {
     "data": {
      "text/plain": [
       "Index(['pri_neigh', 'sec_neigh', 'geometry', 'public_libraries',\n",
       "       'grocery_shops', 'wifi_points', 'public_clinics', 'public_schools',\n",
       "       'bus_stations', 'rail_stations', 'parks_bound'],\n",
       "      dtype='object')"
      ]
     },
     "metadata": {},
     "output_type": "display_data"
    }
   ],
   "source": [
    "cnt_servs_neigh.columns"
   ]
  },
  {
   "cell_type": "markdown",
   "metadata": {},
   "source": [
    "### III.b Normalization"
   ]
  },
  {
   "cell_type": "markdown",
   "metadata": {},
   "source": [
    "We will use the neighborhood results as the benchmark to compare the values obtained for the shelters. We begin by normalizing the results, and creating an aggregated index by service. This aggregation is done by taking the average of the normalized value for each neighborhood. This process is done in the `normalize_counts` function: "
   ]
  },
  {
   "cell_type": "code",
   "execution_count": 48,
   "metadata": {},
   "outputs": [],
   "source": [
    "def normalize_counts(df_to_normalize, df_distribution, vars_normalize):\n",
    "    \"\"\"\n",
    "    This function normalizes the values obtained from the counts of services to\n",
    "    make them comparable.\n",
    "\n",
    "    Input:\n",
    "        df_to_normalize: a DataFrame whose values will be normalized\n",
    "        df_distribution: a DataFrame whose distrution will be used for the\n",
    "            normalization operation.\n",
    "\n",
    "    Output:\n",
    "        norm_df: a DataFrame with normalized values\n",
    "    \"\"\"\n",
    "\n",
    "    norm_df = df_to_normalize.copy()\n",
    "    id_cols = [col for col in norm_df.columns if col not in vars_normalize]\n",
    "    \n",
    "    for var in vars_normalize:\n",
    "        # Calculate the mean and standard deviation from the initial dataset\n",
    "        mean = df_distribution[var].mean()\n",
    "        sd = df_distribution[var].std()\n",
    "\n",
    "        # Normalize the appropiate dataset using the mean and standard deviation from the initial dataset\n",
    "        norm_df[var + '_norm'] = (norm_df[var] - mean) / sd\n",
    "\n",
    "        # Apply a logistic transformation to the normalized values of the new dataset\n",
    "        def logistic_transform(x):\n",
    "            return 1 / (1 + np.exp(-x))\n",
    "        \n",
    "        norm_df[var + '_index'] = norm_df[var + '_norm'].apply(logistic_transform) * 100\n",
    "    \n",
    "    # Keep index variables only\n",
    "    cols_keep = [col for col in norm_df.columns if '_index' in col]\n",
    "    id_cols =+ cols_keep\n",
    "    norm_df = norm_df[id_cols]\n",
    "\n",
    "    return norm_df"
   ]
  },
  {
   "cell_type": "code",
   "execution_count": 47,
   "metadata": {},
   "outputs": [
    {
     "data": {
      "text/html": [
       "<div>\n",
       "<style scoped>\n",
       "    .dataframe tbody tr th:only-of-type {\n",
       "        vertical-align: middle;\n",
       "    }\n",
       "\n",
       "    .dataframe tbody tr th {\n",
       "        vertical-align: top;\n",
       "    }\n",
       "\n",
       "    .dataframe thead th {\n",
       "        text-align: right;\n",
       "    }\n",
       "</style>\n",
       "<table border=\"1\" class=\"dataframe\">\n",
       "  <thead>\n",
       "    <tr style=\"text-align: right;\">\n",
       "      <th></th>\n",
       "      <th>pri_neigh</th>\n",
       "      <th>sec_neigh</th>\n",
       "      <th>geometry</th>\n",
       "      <th>public_libraries_index</th>\n",
       "      <th>grocery_shops_index</th>\n",
       "      <th>wifi_points_index</th>\n",
       "      <th>public_clinics_index</th>\n",
       "      <th>public_schools_index</th>\n",
       "      <th>bus_stations_index</th>\n",
       "      <th>rail_stations_index</th>\n",
       "      <th>parks_bound_index</th>\n",
       "    </tr>\n",
       "  </thead>\n",
       "  <tbody>\n",
       "    <tr>\n",
       "      <th>0</th>\n",
       "      <td>Grand Boulevard</td>\n",
       "      <td>BRONZEVILLE</td>\n",
       "      <td>POINT (-87.61786 41.81295)</td>\n",
       "      <td>79.461761</td>\n",
       "      <td>49.726666</td>\n",
       "      <td>66.516770</td>\n",
       "      <td>68.730459</td>\n",
       "      <td>74.293212</td>\n",
       "      <td>67.105309</td>\n",
       "      <td>75.686750</td>\n",
       "      <td>86.280724</td>\n",
       "    </tr>\n",
       "    <tr>\n",
       "      <th>1</th>\n",
       "      <td>Printers Row</td>\n",
       "      <td>PRINTERS ROW</td>\n",
       "      <td>POINT (-87.62903 41.87098)</td>\n",
       "      <td>38.022842</td>\n",
       "      <td>43.074720</td>\n",
       "      <td>76.135606</td>\n",
       "      <td>73.239510</td>\n",
       "      <td>35.208749</td>\n",
       "      <td>84.898731</td>\n",
       "      <td>93.591020</td>\n",
       "      <td>79.710550</td>\n",
       "    </tr>\n",
       "    <tr>\n",
       "      <th>2</th>\n",
       "      <td>United Center</td>\n",
       "      <td>UNITED CENTER</td>\n",
       "      <td>POINT (-87.67914 41.88197)</td>\n",
       "      <td>79.461761</td>\n",
       "      <td>25.304972</td>\n",
       "      <td>83.669604</td>\n",
       "      <td>68.730459</td>\n",
       "      <td>91.964237</td>\n",
       "      <td>65.361617</td>\n",
       "      <td>39.889506</td>\n",
       "      <td>48.919930</td>\n",
       "    </tr>\n",
       "    <tr>\n",
       "      <th>3</th>\n",
       "      <td>Sheffield &amp; DePaul</td>\n",
       "      <td>SHEFFIELD &amp; DEPAUL</td>\n",
       "      <td>POINT (-87.65367 41.92719)</td>\n",
       "      <td>60.639992</td>\n",
       "      <td>56.388303</td>\n",
       "      <td>32.415367</td>\n",
       "      <td>68.730459</td>\n",
       "      <td>49.498474</td>\n",
       "      <td>36.941811</td>\n",
       "      <td>58.970724</td>\n",
       "      <td>71.049666</td>\n",
       "    </tr>\n",
       "    <tr>\n",
       "      <th>4</th>\n",
       "      <td>Humboldt Park</td>\n",
       "      <td>HUMBOLDT PARK</td>\n",
       "      <td>POINT (-87.71651 41.90089)</td>\n",
       "      <td>60.639992</td>\n",
       "      <td>74.279482</td>\n",
       "      <td>83.669604</td>\n",
       "      <td>68.730459</td>\n",
       "      <td>83.903680</td>\n",
       "      <td>59.893641</td>\n",
       "      <td>39.889506</td>\n",
       "      <td>71.049666</td>\n",
       "    </tr>\n",
       "    <tr>\n",
       "      <th>...</th>\n",
       "      <td>...</td>\n",
       "      <td>...</td>\n",
       "      <td>...</td>\n",
       "      <td>...</td>\n",
       "      <td>...</td>\n",
       "      <td>...</td>\n",
       "      <td>...</td>\n",
       "      <td>...</td>\n",
       "      <td>...</td>\n",
       "      <td>...</td>\n",
       "      <td>...</td>\n",
       "    </tr>\n",
       "    <tr>\n",
       "      <th>93</th>\n",
       "      <td>Belmont Cragin</td>\n",
       "      <td>BELMONT CRAGIN,HERMOSA</td>\n",
       "      <td>POINT (-87.76550 41.92726)</td>\n",
       "      <td>60.639992</td>\n",
       "      <td>91.681927</td>\n",
       "      <td>43.511080</td>\n",
       "      <td>42.341876</td>\n",
       "      <td>59.221938</td>\n",
       "      <td>61.751515</td>\n",
       "      <td>39.889506</td>\n",
       "      <td>27.205595</td>\n",
       "    </tr>\n",
       "    <tr>\n",
       "      <th>94</th>\n",
       "      <td>Austin</td>\n",
       "      <td>AUSTIN</td>\n",
       "      <td>POINT (-87.75801 41.89065)</td>\n",
       "      <td>60.639992</td>\n",
       "      <td>30.692329</td>\n",
       "      <td>66.516770</td>\n",
       "      <td>68.730459</td>\n",
       "      <td>61.572694</td>\n",
       "      <td>38.776070</td>\n",
       "      <td>58.970724</td>\n",
       "      <td>71.049666</td>\n",
       "    </tr>\n",
       "    <tr>\n",
       "      <th>95</th>\n",
       "      <td>Gold Coast</td>\n",
       "      <td>GOLD COAST</td>\n",
       "      <td>POINT (-87.62710 41.90601)</td>\n",
       "      <td>38.022842</td>\n",
       "      <td>68.840561</td>\n",
       "      <td>43.511080</td>\n",
       "      <td>68.730459</td>\n",
       "      <td>30.864093</td>\n",
       "      <td>85.871519</td>\n",
       "      <td>58.970724</td>\n",
       "      <td>60.522731</td>\n",
       "    </tr>\n",
       "    <tr>\n",
       "      <th>96</th>\n",
       "      <td>Boystown</td>\n",
       "      <td>BOYSTOWN</td>\n",
       "      <td>POINT (-87.64745 41.94392)</td>\n",
       "      <td>79.461761</td>\n",
       "      <td>43.074720</td>\n",
       "      <td>55.297301</td>\n",
       "      <td>42.341876</td>\n",
       "      <td>35.208749</td>\n",
       "      <td>90.657664</td>\n",
       "      <td>39.889506</td>\n",
       "      <td>60.522731</td>\n",
       "    </tr>\n",
       "    <tr>\n",
       "      <th>97</th>\n",
       "      <td>River North</td>\n",
       "      <td>RIVER NORTH</td>\n",
       "      <td>POINT (-87.64132 41.89902)</td>\n",
       "      <td>79.461761</td>\n",
       "      <td>74.279482</td>\n",
       "      <td>32.415367</td>\n",
       "      <td>68.730459</td>\n",
       "      <td>56.828206</td>\n",
       "      <td>56.096447</td>\n",
       "      <td>58.970724</td>\n",
       "      <td>71.049666</td>\n",
       "    </tr>\n",
       "  </tbody>\n",
       "</table>\n",
       "<p>98 rows × 11 columns</p>\n",
       "</div>"
      ],
      "text/plain": [
       "             pri_neigh               sec_neigh                    geometry  \\\n",
       "0      Grand Boulevard             BRONZEVILLE  POINT (-87.61786 41.81295)   \n",
       "1         Printers Row            PRINTERS ROW  POINT (-87.62903 41.87098)   \n",
       "2        United Center           UNITED CENTER  POINT (-87.67914 41.88197)   \n",
       "3   Sheffield & DePaul      SHEFFIELD & DEPAUL  POINT (-87.65367 41.92719)   \n",
       "4        Humboldt Park           HUMBOLDT PARK  POINT (-87.71651 41.90089)   \n",
       "..                 ...                     ...                         ...   \n",
       "93      Belmont Cragin  BELMONT CRAGIN,HERMOSA  POINT (-87.76550 41.92726)   \n",
       "94              Austin                  AUSTIN  POINT (-87.75801 41.89065)   \n",
       "95          Gold Coast              GOLD COAST  POINT (-87.62710 41.90601)   \n",
       "96            Boystown                BOYSTOWN  POINT (-87.64745 41.94392)   \n",
       "97         River North             RIVER NORTH  POINT (-87.64132 41.89902)   \n",
       "\n",
       "    public_libraries_index  grocery_shops_index  wifi_points_index  \\\n",
       "0                79.461761            49.726666          66.516770   \n",
       "1                38.022842            43.074720          76.135606   \n",
       "2                79.461761            25.304972          83.669604   \n",
       "3                60.639992            56.388303          32.415367   \n",
       "4                60.639992            74.279482          83.669604   \n",
       "..                     ...                  ...                ...   \n",
       "93               60.639992            91.681927          43.511080   \n",
       "94               60.639992            30.692329          66.516770   \n",
       "95               38.022842            68.840561          43.511080   \n",
       "96               79.461761            43.074720          55.297301   \n",
       "97               79.461761            74.279482          32.415367   \n",
       "\n",
       "    public_clinics_index  public_schools_index  bus_stations_index  \\\n",
       "0              68.730459             74.293212           67.105309   \n",
       "1              73.239510             35.208749           84.898731   \n",
       "2              68.730459             91.964237           65.361617   \n",
       "3              68.730459             49.498474           36.941811   \n",
       "4              68.730459             83.903680           59.893641   \n",
       "..                   ...                   ...                 ...   \n",
       "93             42.341876             59.221938           61.751515   \n",
       "94             68.730459             61.572694           38.776070   \n",
       "95             68.730459             30.864093           85.871519   \n",
       "96             42.341876             35.208749           90.657664   \n",
       "97             68.730459             56.828206           56.096447   \n",
       "\n",
       "    rail_stations_index  parks_bound_index  \n",
       "0             75.686750          86.280724  \n",
       "1             93.591020          79.710550  \n",
       "2             39.889506          48.919930  \n",
       "3             58.970724          71.049666  \n",
       "4             39.889506          71.049666  \n",
       "..                  ...                ...  \n",
       "93            39.889506          27.205595  \n",
       "94            58.970724          71.049666  \n",
       "95            58.970724          60.522731  \n",
       "96            39.889506          60.522731  \n",
       "97            58.970724          71.049666  \n",
       "\n",
       "[98 rows x 11 columns]"
      ]
     },
     "execution_count": 47,
     "metadata": {},
     "output_type": "execute_result"
    }
   ],
   "source": [
    "normalize_counts(cnt_servs_neigh,cnt_servs_neigh,serv_buffer.keys())"
   ]
  },
  {
   "cell_type": "code",
   "execution_count": 33,
   "metadata": {},
   "outputs": [
    {
     "data": {
      "text/plain": [
       "<Axes: >"
      ]
     },
     "execution_count": 33,
     "metadata": {},
     "output_type": "execute_result"
    },
    {
     "data": {
      "image/png": "[encoded data removed]",
      "text/plain": [
       "<Figure size 640x480 with 1 Axes>"
      ]
     },
     "metadata": {},
     "output_type": "display_data"
    }
   ],
   "source": [
    "# base = geo_public_libraries.geometry.plot(color='blue')\n",
    "# geo_shelters.geometry.plot(ax=base, color='red')"
   ]
  },
  {
   "cell_type": "markdown",
   "metadata": {},
   "source": [
    "## III. Calculating Accesibility Indices"
   ]
  },
  {
   "cell_type": "markdown",
   "metadata": {},
   "source": []
  },
  {
   "cell_type": "markdown",
   "metadata": {},
   "source": [
    "### III.a Individual Indices"
   ]
  },
  {
   "cell_type": "markdown",
   "metadata": {},
   "source": [
    "For each shelter, we calculate how many of each type of service (grocery shops, wifi points, etc.) fall within its buffer zone using spatial operations. This will give us a raw count of accessible services. To make these counts comparable across shelters, we’ll normalize them in a uniform range (*i.e.*, 0 to 100). For sake of simplicity, we’ll treat every service as equally important so there is no need to define specific weights."
   ]
  },
  {
   "cell_type": "markdown",
   "metadata": {},
   "source": [
    "### III.b Aggregated Index"
   ]
  },
  {
   "cell_type": "markdown",
   "metadata": {},
   "source": [
    "After calculating the normalized individual indices, we’ll combine them into a final index for each shelter. This can be a simple average if all services are considered equally important."
   ]
  },
  {
   "cell_type": "markdown",
   "metadata": {},
   "source": [
    "## IV. Visualization"
   ]
  },
  {
   "cell_type": "markdown",
   "metadata": {},
   "source": [
    "Finally, we’ll use the final aggregated index to rank shelters in terms of their access to essential services. We’ll then create a geospatial visualization to represent the accessibility of each shelter visually."
   ]
  }
 ],
 "metadata": {
  "kernelspec": {
   "display_name": "Python 3",
   "language": "python",
   "name": "python3"
  },
  "language_info": {
   "codemirror_mode": {
    "name": "ipython",
    "version": 3
   },
   "file_extension": ".py",
   "mimetype": "text/x-python",
   "name": "python",
   "nbconvert_exporter": "python",
   "pygments_lexer": "ipython3",
   "version": "3.11.8"
  }
 },
 "nbformat": 4,
 "nbformat_minor": 2
}
